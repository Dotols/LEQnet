{
 "cells": [
  {
   "cell_type": "code",
   "execution_count": 1,
   "metadata": {},
   "outputs": [],
   "source": [
    "import os\n",
    "import h5py\n",
    "import pandas as pd\n",
    "import numpy as np\n",
    "import matplotlib.pyplot as plt\n",
    "from tqdm.notebook import tqdm\n",
    "\n",
    "DIR = os.getcwd()\n",
    "data_path = os.path.join(DIR, 'data/STEAD')"
   ]
  },
  {
   "cell_type": "code",
   "execution_count": 2,
   "metadata": {},
   "outputs": [
    {
     "name": "stderr",
     "output_type": "stream",
     "text": [
      "/usr/local/lib/python3.6/dist-packages/IPython/core/interactiveshell.py:3242: DtypeWarning: Columns (21) have mixed types.Specify dtype option on import or set low_memory=False.\n",
      "  if (await self.run_code(code, result,  async_=asy)):\n"
     ]
    },
    {
     "name": "stdout",
     "output_type": "stream",
     "text": [
      "total events in csv file: 200000\n",
      "total events selected: 10148\n",
      "random choice length : 10000\n"
     ]
    },
    {
     "data": {
      "application/vnd.jupyter.widget-view+json": {
       "model_id": "d8a7428590974dfd9415a604198c719e",
       "version_major": 2,
       "version_minor": 0
      },
      "text/plain": [
       "HBox(children=(FloatProgress(value=1.0, bar_style='info', max=1.0), HTML(value='')))"
      ]
     },
     "metadata": {},
     "output_type": "display_data"
    },
    {
     "name": "stdout",
     "output_type": "stream",
     "text": [
      "\n",
      "total events in csv file: 235426\n",
      "total events selected: 235426\n",
      "random choice length : 10000\n"
     ]
    },
    {
     "data": {
      "application/vnd.jupyter.widget-view+json": {
       "model_id": "94557a667cd3468aa6c75875bf8f4db0",
       "version_major": 2,
       "version_minor": 0
      },
      "text/plain": [
       "HBox(children=(FloatProgress(value=1.0, bar_style='info', max=1.0), HTML(value='')))"
      ]
     },
     "metadata": {},
     "output_type": "display_data"
    },
    {
     "name": "stdout",
     "output_type": "stream",
     "text": [
      "\n"
     ]
    }
   ],
   "source": [
    "window_count = 6\n",
    "is_balance = True\n",
    "\n",
    "def preprocessing(window_count, is_balance):\n",
    "    if is_balance:\n",
    "        t_count = 10000\n",
    "        f_count = 10000\n",
    "    else:\n",
    "        t_count = 1000\n",
    "        f_count = 9000\n",
    "        \n",
    "    window_size = 6000//window_count\n",
    "    \n",
    "    file_name = \"chunk2.hdf5\"\n",
    "    csv_file = \"chunk2.csv\"\n",
    "\n",
    "    # reading the csv file into a dataframe:\n",
    "    df = pd.read_csv(os.path.join(data_path, csv_file))\n",
    "    print(f'total events in csv file: {len(df)}')\n",
    "\n",
    "    # filterering the dataframe\n",
    "    # df = df[(df.trace_category == 'earthquake_local') & (df.source_distance_km <= 20) & (df.source_magnitude > 3)]\n",
    "    df = df[(df.source_magnitude > 3)]\n",
    "    print(f'total events selected: {len(df)}')\n",
    "\n",
    "    # making a list of trace names for the selected data\n",
    "    random_idx = np.random.choice(len(df),10000)\n",
    "    ev_list = df['trace_name'].to_numpy()[random_idx]\n",
    "    print('random choice length :', len(ev_list))\n",
    "\n",
    "    # retrieving selected waveforms from the hdf5 file: \n",
    "    dtfl = h5py.File(os.path.join(data_path, file_name), 'r')\n",
    "\n",
    "    outputs = list()\n",
    "    \n",
    "    for c, evi in tqdm(enumerate(ev_list)):\n",
    "        dataset = dtfl.get('data/'+str(evi)) \n",
    "\n",
    "        data = np.array(dataset)\n",
    "        p_time_label = np.zeros(window_count)\n",
    "        s_time_label = np.zeros(window_count)\n",
    "\n",
    "\n",
    "        p_time_label[int(dataset.attrs['p_arrival_sample']//window_size)] = 1\n",
    "        s_time_label[int(dataset.attrs['s_arrival_sample']//window_size)] = 1\n",
    "\n",
    "        outputs.append({\n",
    "            'data' : data,\n",
    "            'p_label' : 1,\n",
    "            's_label' : 1,\n",
    "            'p_time_label' : p_time_label,\n",
    "            's_time_label' : s_time_label\n",
    "\n",
    "        })\n",
    "        \n",
    "        \n",
    "    file_name = \"chunk1.hdf5\"\n",
    "    csv_file = \"chunk1.csv\"\n",
    "\n",
    "    # reading the csv file into a dataframe:\n",
    "    df = pd.read_csv(os.path.join(data_path, csv_file))\n",
    "    print(f'total events in csv file: {len(df)}')\n",
    "\n",
    "    # filterering the dataframe\n",
    "    df = df[(df.trace_category == 'noise')]\n",
    "    print(f'total events selected: {len(df)}')\n",
    "\n",
    "    # making a list of trace names for the selected data\n",
    "    random_idx = np.random.choice(len(ev_list),10000)\n",
    "    ev_list = df['trace_name'].to_numpy()[random_idx]\n",
    "    print('random choice length :', len(ev_list))\n",
    "\n",
    "    # retrieving selected waveforms from the hdf5 file: \n",
    "    dtfl = h5py.File(os.path.join(data_path, file_name), 'r')\n",
    "\n",
    "    for c, evi in tqdm(enumerate(ev_list)):\n",
    "        dataset = dtfl.get('data/'+str(evi)) \n",
    "\n",
    "        data = np.array(dataset)\n",
    "        p_time_label = np.zeros(window_count)\n",
    "        s_time_label = np.zeros(window_count)\n",
    "\n",
    "        outputs.append({\n",
    "            'data' : data,\n",
    "            'p_label' : 0,\n",
    "            's_label' : 0,\n",
    "            'p_time_label' : p_time_label,\n",
    "            's_time_label' : s_time_label\n",
    "        })\n",
    "        \n",
    "    return outputs\n",
    "\n",
    "outputs = preprocessing(window_count, is_balance)"
   ]
  },
  {
   "cell_type": "code",
   "execution_count": 3,
   "metadata": {},
   "outputs": [],
   "source": [
    "import pickle\n",
    "if is_balance:\n",
    "    with open(os.path.join(DIR, 'labeled_dump_STEAD', 'STEAD_win' + str(window_count) + '_balance_dump.pkl'), 'wb') as f:\n",
    "        pickle.dump(outputs, f)\n",
    "else:\n",
    "    with open(os.path.join(DIR, 'labeled_dump_STEAD', 'STEAD_win' + str(window_count) + '_imbalance_dump.pkl'), 'wb') as f:\n",
    "        pickle.dump(outputs, f)\n",
    "    "
   ]
  }
 ],
 "metadata": {
  "kernelspec": {
   "display_name": "Python 3",
   "language": "python",
   "name": "python3"
  },
  "language_info": {
   "codemirror_mode": {
    "name": "ipython",
    "version": 3
   },
   "file_extension": ".py",
   "mimetype": "text/x-python",
   "name": "python",
   "nbconvert_exporter": "python",
   "pygments_lexer": "ipython3",
   "version": "3.6.9"
  }
 },
 "nbformat": 4,
 "nbformat_minor": 4
}
