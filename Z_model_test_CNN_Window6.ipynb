{
 "cells": [
  {
   "cell_type": "code",
   "execution_count": 1,
   "metadata": {
    "jupyter": {
     "source_hidden": true
    }
   },
   "outputs": [],
   "source": [
    "# import matplotlib.pyplot as plt\n",
    "# %matplotlib inline\n",
    "\n",
    "# # ---- 데이터 구경 --- \n",
    "\n",
    "# for (X_train, y_train) in dataset['train_loader'] :\n",
    "#     for idx in range(100,150):\n",
    "#         if 1 in y_train[idx]:\n",
    "#             plt.plot(X_train[idx][0])\n",
    "#             plt.title(y_train[idx])\n",
    "#             plt.show()\n",
    "#     break"
   ]
  },
  {
   "cell_type": "code",
   "execution_count": 2,
   "metadata": {
    "scrolled": true
   },
   "outputs": [
    {
     "name": "stderr",
     "output_type": "stream",
     "text": [
      "Using TensorFlow backend.\n"
     ]
    },
    {
     "name": "stdout",
     "output_type": "stream",
     "text": [
      "{'T/F_ratio': [0.5, 0.5],\n",
      " 'add_event_r': 0.6,\n",
      " 'add_gap_r': 0.2,\n",
      " 'add_noise_r': 0.5,\n",
      " 'augmentation': True,\n",
      " 'batch_size': 36,\n",
      " 'condition': 'M>3',\n",
      " 'config_name': 'W6_M>3_balance',\n",
      " 'drop_channel_r': 0.5,\n",
      " 'epochs': 100,\n",
      " 'file_name': 'STEAD_W6_M>3_balance_dump.pkl',\n",
      " 'imbalance': False,\n",
      " 'input_dimention': (6000, 3),\n",
      " 'kernel_size': 10,\n",
      " 'label_type': 'gaussian',\n",
      " 'lr': 0.001,\n",
      " 'mode': 'generator',\n",
      " 'model_name': 'CNN_W6_M>3_balance',\n",
      " 'normalization_mode': 'std',\n",
      " 'output': 'lstm',\n",
      " 'output_name': 'test_trainer',\n",
      " 'pre_emphasis': False,\n",
      " 'scale_amplitude_r': None,\n",
      " 'shift_event_r': 0.9,\n",
      " 'shuffle': True,\n",
      " 'source': 'STEAD',\n",
      " 'total_data_size': 20000,\n",
      " 'train_valid_test_split': [0.6, 0.2, 0.2],\n",
      " 'window_count': 6}\n",
      "file exist!!!\n"
     ]
    }
   ],
   "source": [
    "from _preprocessing import *\n",
    "\n",
    "params = dict()\n",
    "\n",
    "# ------------------ configuration ------------------\n",
    "\n",
    "params['source']                 = 'STEAD'\n",
    "params['mode']                   = 'generator'\n",
    "params['window_count']           = 6\n",
    "params['condition']              = 'M>3'\n",
    "params['imbalance']              = False\n",
    "params['config_name']            = make_config(params)\n",
    "params['file_name']              = params['source'] + '_' + params['config_name'] + '_dump.pkl'\n",
    "params['model_name']             = 'CNN_' + params['config_name']\n",
    "params['output']                 = 'lstm'\n",
    "\n",
    "# ------------------ preprocessing ------------------\n",
    "\n",
    "params['output_name']            = 'test_trainer'\n",
    "params['input_dimention']        = (6000, 3)\n",
    "params['shuffle']                = True\n",
    "params['label_type']             = 'gaussian'\n",
    "params['normalization_mode']     = 'std'\n",
    "params['augmentation']           = True\n",
    "params['add_event_r']            = 0.6\n",
    "params['add_gap_r']              = 0.2\n",
    "params['add_noise_r']            = 0.5\n",
    "params['drop_channel_r']         = 0.5\n",
    "params['shift_event_r']          = 0.9\n",
    "params['scale_amplitude_r']      = None\n",
    "params['pre_emphasis']           = False\n",
    "\n",
    "params['batch_size']             = 36\n",
    "params['total_data_size']        = 20000\n",
    "params['T/F_ratio']              = [0.5, 0.5]\n",
    "params['train_valid_test_split'] = [0.60, 0.20, 0.20]\n",
    "\n",
    "# ----------------- model-parameter -----------------\n",
    "\n",
    "params['kernel_size']            = 10\n",
    "\n",
    "# ----------------- train-parameter -----------------\n",
    "\n",
    "params['epochs']                 = 100\n",
    "params['lr']                     = 0.001\n",
    "\n",
    "import pprint\n",
    "pprint.pprint(params)\n",
    "\n",
    "preprocessing_generator(params)"
   ]
  },
  {
   "cell_type": "code",
   "execution_count": 3,
   "metadata": {},
   "outputs": [
    {
     "name": "stdout",
     "output_type": "stream",
     "text": [
      "DEVICE \t\t:  cuda:1\n",
      "pid \t\t:  44930\n",
      "\n",
      "---------------------------------Data---------------------------------\n",
      "\n",
      "file name \t: STEAD_W6_M>3_balance_dump.pkl\n",
      "data length \t: 20000\n",
      "T/F count \t: 10000 / 10000\n",
      "T/F ratio \t: 50.0 %\n",
      "Train size \t: 12000\n",
      "Valid size \t: 4000\n",
      "Test size \t: 4000\n",
      "\n",
      "------------------------------Data Loader------------------------------\n",
      "\n",
      "X_train shape:  torch.Size([500, 3, 6000])  \ttype :  torch.FloatTensor\n",
      "y_train shape:  torch.Size([500, 1, 6])  \ttype :  torch.FloatTensor\n"
     ]
    }
   ],
   "source": [
    "from _utils import *\n",
    "\n",
    "dataset = load_dataset(params)"
   ]
  },
  {
   "cell_type": "code",
   "execution_count": null,
   "metadata": {},
   "outputs": [],
   "source": [
    "from _CNN_Window6 import *\n",
    "\n",
    "train(params, dataset)"
   ]
  },
  {
   "cell_type": "code",
   "execution_count": null,
   "metadata": {},
   "outputs": [],
   "source": []
  }
 ],
 "metadata": {
  "kernelspec": {
   "display_name": "Python 3",
   "language": "python",
   "name": "python3"
  },
  "language_info": {
   "codemirror_mode": {
    "name": "ipython",
    "version": 3
   },
   "file_extension": ".py",
   "mimetype": "text/x-python",
   "name": "python",
   "nbconvert_exporter": "python",
   "pygments_lexer": "ipython3",
   "version": "3.6.9"
  }
 },
 "nbformat": 4,
 "nbformat_minor": 4
}
