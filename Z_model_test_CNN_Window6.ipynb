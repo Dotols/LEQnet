{
 "cells": [
  {
   "cell_type": "code",
   "execution_count": 1,
   "metadata": {
    "jupyter": {
     "source_hidden": true
    }
   },
   "outputs": [],
   "source": [
    "# import matplotlib.pyplot as plt\n",
    "# %matplotlib inline\n",
    "\n",
    "# # ---- 데이터 구경 --- \n",
    "\n",
    "# for (X_train, y_train) in dataset['train_loader'] :\n",
    "#     for idx in range(100,150):\n",
    "#         if 1 in y_train[idx]:\n",
    "#             plt.plot(X_train[idx][0])\n",
    "#             plt.title(y_train[idx])\n",
    "#             plt.show()\n",
    "#     break"
   ]
  },
  {
   "cell_type": "code",
   "execution_count": 2,
   "metadata": {},
   "outputs": [
    {
     "name": "stderr",
     "output_type": "stream",
     "text": [
      "Using TensorFlow backend.\n"
     ]
    },
    {
     "name": "stdout",
     "output_type": "stream",
     "text": [
      "{'T/F_ratio': [0.5, 0.5],\n",
      " 'add_event_r': 0.6,\n",
      " 'add_gap_r': 0.2,\n",
      " 'add_noise_r': 0.5,\n",
      " 'augmentation': True,\n",
      " 'batch_size': 36,\n",
      " 'condition': 'M>3',\n",
      " 'config_name': 'W6_M>3_balance',\n",
      " 'drop_channel_r': 0.5,\n",
      " 'epochs': 10,\n",
      " 'file_name': 'STEAD_W6_M>3_balance_dump.pkl',\n",
      " 'imbalance': False,\n",
      " 'input_dimention': (6000, 3),\n",
      " 'kernel_size': 10,\n",
      " 'label_type': 'gaussian',\n",
      " 'lr': 0.001,\n",
      " 'mode': 'generator',\n",
      " 'model_name': 'CNN_W6_M>3_balance',\n",
      " 'normalization_mode': 'std',\n",
      " 'output': 'lstm',\n",
      " 'output_name': 'test_trainer',\n",
      " 'pre_emphasis': False,\n",
      " 'scale_amplitude_r': None,\n",
      " 'shift_event_r': 0.9,\n",
      " 'shuffle': True,\n",
      " 'source': 'STEAD',\n",
      " 'total_data_size': 20000,\n",
      " 'train_valid_test_split': [0.6, 0.2, 0.2],\n",
      " 'window_count': 6}\n",
      "file exist!!!\n"
     ]
    }
   ],
   "source": [
    "from _preprocessing import *\n",
    "\n",
    "params = dict()\n",
    "\n",
    "# ------------------ configuration ------------------\n",
    "\n",
    "params['source']                 = 'STEAD'\n",
    "params['mode']                   = 'generator'\n",
    "params['window_count']           = 6\n",
    "params['condition']              = 'M>3'\n",
    "params['imbalance']              = False\n",
    "params['config_name']            = make_config(params)\n",
    "params['file_name']              = params['source'] + '_' + params['config_name'] + '_dump.pkl'\n",
    "params['model_name']             = 'CNN_' + params['config_name']\n",
    "params['output']                 = 'lstm'\n",
    "\n",
    "# ------------------ preprocessing ------------------\n",
    "\n",
    "params['output_name']            = 'test_trainer'\n",
    "params['input_dimention']        = (6000, 3)\n",
    "params['shuffle']                = True\n",
    "params['label_type']             = 'gaussian'\n",
    "params['normalization_mode']     = 'std'\n",
    "params['augmentation']           = True\n",
    "params['add_event_r']            = 0.6\n",
    "params['add_gap_r']              = 0.2\n",
    "params['add_noise_r']            = 0.5\n",
    "params['drop_channel_r']         = 0.5\n",
    "params['shift_event_r']          = 0.9\n",
    "params['scale_amplitude_r']      = None\n",
    "params['pre_emphasis']           = False\n",
    "\n",
    "params['batch_size']             = 36\n",
    "params['total_data_size']        = 20000\n",
    "params['T/F_ratio']              = [0.5, 0.5]\n",
    "params['train_valid_test_split'] = [0.60, 0.20, 0.20]\n",
    "\n",
    "# ----------------- model-parameter -----------------\n",
    "\n",
    "params['kernel_size']            = 10\n",
    "\n",
    "# ----------------- train-parameter -----------------\n",
    "\n",
    "params['epochs']                 = 10\n",
    "params['lr']                     = 0.001\n",
    "\n",
    "import pprint\n",
    "pprint.pprint(params)\n",
    "\n",
    "preprocessing_generator(params)"
   ]
  },
  {
   "cell_type": "code",
   "execution_count": 3,
   "metadata": {},
   "outputs": [
    {
     "name": "stdout",
     "output_type": "stream",
     "text": [
      "DEVICE \t\t:  cuda:1\n",
      "pid \t\t:  3176\n",
      "\n",
      "---------------------------------Data---------------------------------\n",
      "\n",
      "file name \t: STEAD_W6_M>3_balance_dump.pkl\n",
      "data length \t: 20000\n",
      "T/F count \t: 10000 / 10000\n",
      "T/F ratio \t: 50.0 %\n",
      "Train size \t: 12000\n",
      "Valid size \t: 4000\n",
      "Test size \t: 4000\n",
      "\n",
      "------------------------------Data Loader------------------------------\n",
      "\n",
      "X_train shape:  torch.Size([500, 3, 6000])  \ttype :  torch.FloatTensor\n",
      "y_train shape:  torch.Size([500, 1, 6])  \ttype :  torch.FloatTensor\n"
     ]
    }
   ],
   "source": [
    "from _utils import *\n",
    "\n",
    "dataset = load_dataset(params)"
   ]
  },
  {
   "cell_type": "code",
   "execution_count": 4,
   "metadata": {},
   "outputs": [
    {
     "name": "stdout",
     "output_type": "stream",
     "text": [
      " Epoch [1/10], Step [24/24], Loss: 1.4372, Val Loss: 2.1287, accuracy : 0.6060, precision : 0.9792, recall : 0.1934, F1_score : 0.3230, TP : 47, FP : 1, TN : 256, FN : 196\n",
      " Epoch [2/10], Step [24/24], Loss: 0.7761, Val Loss: 1.1386, accuracy : 0.7980, precision : 0.9649, recall : 0.6346, F1_score : 0.7657, TP : 165, FP : 6, TN : 234, FN : 952\n",
      " Epoch [3/10], Step [24/24], Loss: 0.7923, Val Loss: 0.9782, accuracy : 0.8140, precision : 0.9845, recall : 0.6786, F1_score : 0.8034, TP : 190, FP : 3, TN : 217, FN : 9011\n",
      " Epoch [4/10], Step [24/24], Loss: 0.6607, Val Loss: 0.8566, accuracy : 0.8520, precision : 0.9511, recall : 0.7292, F1_score : 0.8255, TP : 175, FP : 9, TN : 251, FN : 658\n",
      " Epoch [5/10], Step [24/24], Loss: 0.6957, Val Loss: 0.8676, accuracy : 0.8580, precision : 0.9619, recall : 0.7623, F1_score : 0.8505, TP : 202, FP : 8, TN : 227, FN : 635\n",
      " Epoch [6/10], Step [24/24], Loss: 0.6491, Val Loss: 0.9074, accuracy : 0.8200, precision : 0.9126, recall : 0.7231, F1_score : 0.8069, TP : 188, FP : 18, TN : 222, FN : 72\n",
      " Epoch [7/10], Step [24/24], Loss: 0.5440, Val Loss: 0.8348, accuracy : 0.8380, precision : 0.9194, recall : 0.7519, F1_score : 0.8273, TP : 194, FP : 17, TN : 225, FN : 64\n",
      " Epoch [8/10], Step [24/24], Loss: 0.6255, Val Loss: 0.7767, accuracy : 0.8260, precision : 0.9064, recall : 0.7302, F1_score : 0.8088, TP : 184, FP : 19, TN : 229, FN : 68\n",
      " Epoch [9/10], Step [24/24], Loss: 0.4596, Val Loss: 0.7262, accuracy : 0.8280, precision : 0.9581, recall : 0.7011, F1_score : 0.8097, TP : 183, FP : 8, TN : 231, FN : 780\n",
      " Epoch [10/10], Step [24/24], Loss: 0.5527, Val Loss: 0.7951, accuracy : 0.8480, precision : 0.9423, recall : 0.7538, F1_score : 0.8376, TP : 196, FP : 12, TN : 228, FN : 64\n",
      "finished in 84.23377132415771 seconds\n"
     ]
    }
   ],
   "source": [
    "from _CNN_Window6 import *\n",
    "\n",
    "model = train(params, dataset)"
   ]
  },
  {
   "cell_type": "code",
   "execution_count": 9,
   "metadata": {},
   "outputs": [
    {
     "name": "stdout",
     "output_type": "stream",
     "text": [
      "Loss: 0.6553, accuracy : 0.8740, precision : 0.9420, recall : 0.7927, F1_score : 0.8609\n",
      "TP : 195, FP : 12, TN : 242, FN : 51\n"
     ]
    }
   ],
   "source": [
    "test(model, dataset)"
   ]
  },
  {
   "cell_type": "code",
   "execution_count": 6,
   "metadata": {},
   "outputs": [
    {
     "name": "stdout",
     "output_type": "stream",
     "text": [
      "----------------------------------------------------------------\n",
      "        Layer (type)               Output Shape         Param #\n",
      "================================================================\n",
      "            Conv1d-1              [-1, 4, 6001]             124\n",
      "              ReLU-2              [-1, 4, 6001]               0\n",
      "           Dropout-3              [-1, 4, 6001]               0\n",
      "         MaxPool1d-4              [-1, 4, 3000]               0\n",
      "            Conv1d-5              [-1, 8, 3001]             264\n",
      "              ReLU-6              [-1, 8, 3001]               0\n",
      "           Dropout-7              [-1, 8, 3001]               0\n",
      "         MaxPool1d-8              [-1, 8, 1500]               0\n",
      "            Linear-9                    [-1, 1]           2,001\n",
      "          Sigmoid-10                    [-1, 1]               0\n",
      "================================================================\n",
      "Total params: 2,389\n",
      "Trainable params: 2,389\n",
      "Non-trainable params: 0\n",
      "----------------------------------------------------------------\n",
      "Input size (MB): 0.07\n",
      "Forward/backward pass size (MB): 1.28\n",
      "Params size (MB): 0.01\n",
      "Estimated Total Size (MB): 1.36\n",
      "----------------------------------------------------------------\n"
     ]
    }
   ],
   "source": [
    "import torchsummary\n",
    "\n",
    "torchsummary.summary(model, (3, 6000), device='cuda')"
   ]
  }
 ],
 "metadata": {
  "kernelspec": {
   "display_name": "Python 3",
   "language": "python",
   "name": "python3"
  },
  "language_info": {
   "codemirror_mode": {
    "name": "ipython",
    "version": 3
   },
   "file_extension": ".py",
   "mimetype": "text/x-python",
   "name": "python",
   "nbconvert_exporter": "python",
   "pygments_lexer": "ipython3",
   "version": "3.6.9"
  }
 },
 "nbformat": 4,
 "nbformat_minor": 4
}
