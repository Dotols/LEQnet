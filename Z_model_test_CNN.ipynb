{
 "cells": [
  {
   "cell_type": "code",
   "execution_count": 1,
   "metadata": {
    "jupyter": {
     "source_hidden": true
    }
   },
   "outputs": [],
   "source": [
    "# import matplotlib.pyplot as plt\n",
    "# %matplotlib inline\n",
    "\n",
    "# # ---- 데이터 구경 --- \n",
    "# for (x, y) in dataset['valid_loader']:\n",
    "#     for idx in range(5):\n",
    "#         plt.figure(figsize=(20, 3))\n",
    "#         plt.plot(x[idx][0], color = 'blue' if y[idx] == 1 else 'red')\n",
    "#         plt.title(y[idx][0].numpy())\n",
    "#         plt.show()\n",
    "#     break"
   ]
  },
  {
   "cell_type": "code",
   "execution_count": 2,
   "metadata": {},
   "outputs": [
    {
     "name": "stderr",
     "output_type": "stream",
     "text": [
      "Using TensorFlow backend.\n"
     ]
    },
    {
     "name": "stdout",
     "output_type": "stream",
     "text": [
      "{'T/F_ratio': [0.5, 0.5],\n",
      " 'condition': 'M>3',\n",
      " 'config_name': 'W6000_M>3_balance',\n",
      " 'epochs': 100,\n",
      " 'file_name': 'STEAD_W6000_M>3_balance_dump.pkl',\n",
      " 'imbalance': False,\n",
      " 'kernel_size': 10,\n",
      " 'lr': 0.001,\n",
      " 'mode': 'generator',\n",
      " 'model_name': 'CNN_W6000_M>3_balance',\n",
      " 'output': 'classification',\n",
      " 'source': 'STEAD',\n",
      " 'total_data_size': 20000,\n",
      " 'train_valid_test_split': [0.6, 0.2, 0.2],\n",
      " 'window_count': '6000'}\n"
     ]
    }
   ],
   "source": [
    "from _preprocessing import make_config\n",
    "\n",
    "params = dict()\n",
    "\n",
    "# ------------------ configuration ------------------\n",
    "\n",
    "params['source']                 = 'STEAD'\n",
    "params['mode']                   = 'generator'\n",
    "params['window_count']           = '6000'\n",
    "params['condition']              = 'M>3'\n",
    "params['imbalance']              = False\n",
    "params['config_name']            = make_config(params)\n",
    "params['file_name']              = params['source'] + '_' + params['config_name'] + '_dump.pkl'\n",
    "params['model_name']             = 'CNN_' + params['config_name']\n",
    "params['output']                 = 'classification'\n",
    "\n",
    "# ------------------ preprocessing ------------------\n",
    "\n",
    "params['total_data_size']        = 20000\n",
    "params['T/F_ratio']              = [0.5, 0.5]\n",
    "params['train_valid_test_split'] = [0.60, 0.20, 0.20]\n",
    "\n",
    "# ----------------- model-parameter -----------------\n",
    "\n",
    "params['kernel_size']            = 10\n",
    "\n",
    "# ----------------- train-parameter -----------------\n",
    "\n",
    "params['epochs']                 = 100\n",
    "params['lr']                     = 0.001\n",
    "\n",
    "import pprint\n",
    "pprint.pprint(params)"
   ]
  },
  {
   "cell_type": "code",
   "execution_count": 3,
   "metadata": {},
   "outputs": [
    {
     "name": "stdout",
     "output_type": "stream",
     "text": [
      "DEVICE \t\t:  cuda:1\n",
      "pid \t\t:  1543\n",
      "\n",
      "---------------------------------Data---------------------------------\n",
      "\n",
      "file name \t: STEAD_W6000_M>3_balance_dump.pkl\n",
      "data length \t: 20000\n",
      "T/F count \t: 10000 / 10000\n",
      "T/F ratio \t: 50.0 %\n",
      "Train size \t: 12000\n",
      "Valid size \t: 4000\n",
      "Test size \t: 4000\n",
      "\n",
      "------------------------------Data Loader------------------------------\n",
      "\n",
      "X_train shape:  torch.Size([500, 3, 6000])  \ttype :  torch.FloatTensor\n",
      "y_train shape:  torch.Size([500, 1])  \ttype :  torch.FloatTensor\n"
     ]
    }
   ],
   "source": [
    "from _utils import *\n",
    "\n",
    "dataset = load_dataset(params)"
   ]
  },
  {
   "cell_type": "code",
   "execution_count": 4,
   "metadata": {},
   "outputs": [
    {
     "name": "stdout",
     "output_type": "stream",
     "text": [
      " Epoch [1/100], Step [24/24], Loss: 0.1210, Val Loss: 0.5289 accuracy : 0.6920, precision : 0.6091, recall : 1.0000, F1_score : 0.7571\n",
      " Epoch [2/100], Step [24/24], Loss: 0.1220, Val Loss: 0.4695 accuracy : 0.7980, precision : 0.7194, recall : 1.0000, F1_score : 0.8368\n",
      " Epoch [3/100], Step [24/24], Loss: 0.0558, Val Loss: 0.4450 accuracy : 0.8360, precision : 0.7616, recall : 1.0000, F1_score : 0.8647\n",
      " Epoch [4/100], Step [24/24], Loss: 0.0552, Val Loss: 0.3848 accuracy : 0.9540, precision : 0.9261, recall : 0.9835, F1_score : 0.9539Epoch [4/100], Step [15/24], Loss: 0.0652, Val Loss: 0.4254 accuracy : 0.9200, precision : 0.8655, recall : 0.9960, F1_score : 0.9262\n",
      " Epoch [5/100], Step [24/24], Loss: 0.0772, Val Loss: 0.3672 accuracy : 0.9620, precision : 0.9705, recall : 0.9599, F1_score : 0.9651\n",
      " Epoch [6/100], Step [24/24], Loss: 0.0831, Val Loss: 0.3539 accuracy : 0.9580, precision : 0.9577, recall : 0.9614, F1_score : 0.9595\n",
      " Epoch [7/100], Step [24/24], Loss: 0.0835, Val Loss: 0.3782 accuracy : 0.9280, precision : 0.9609, recall : 0.8911, F1_score : 0.9247\n",
      " Epoch [8/100], Step [24/24], Loss: 0.0545, Val Loss: 0.3317 accuracy : 0.9380, precision : 0.9748, recall : 0.9027, F1_score : 0.9374\n",
      " Epoch [9/100], Step [24/24], Loss: 0.0546, Val Loss: 0.3667 accuracy : 0.9400, precision : 0.9868, recall : 0.8924, F1_score : 0.9372\n",
      " Epoch [10/100], Step [24/24], Loss: 0.0384, Val Loss: 0.3502 accuracy : 0.9080, precision : 0.9124, recall : 0.9051, F1_score : 0.9087\n",
      " Epoch [11/100], Step [24/24], Loss: 0.0492, Val Loss: 0.3330 accuracy : 0.9280, precision : 0.9749, recall : 0.8859, F1_score : 0.9283\n",
      " Epoch [12/100], Step [24/24], Loss: 0.0117, Val Loss: 0.2252 accuracy : 0.9640, precision : 0.9923, recall : 0.9418, F1_score : 0.9664\n",
      " Epoch [13/100], Step [24/24], Loss: 0.0176, Val Loss: 0.2634 accuracy : 0.9380, precision : 0.9440, recall : 0.9328, F1_score : 0.9384\n",
      " Epoch [14/100], Step [24/24], Loss: 0.0483, Val Loss: 0.2148 accuracy : 0.9480, precision : 0.9444, recall : 0.9586, F1_score : 0.9515\n",
      " Epoch [15/100], Step [24/24], Loss: 0.0408, Val Loss: 0.2398 accuracy : 0.9320, precision : 0.9167, recall : 0.9467, F1_score : 0.9315\n",
      " Epoch [16/100], Step [24/24], Loss: 0.0334, Val Loss: 0.2338 accuracy : 0.9480, precision : 0.9700, recall : 0.9224, F1_score : 0.9456poch [16/100], Step [6/24], Loss: 0.0573, Val Loss: 0.2669 accuracy : 0.9300, precision : 0.9706, recall : 0.8919, F1_score : 0.9296\n",
      " Epoch [17/100], Step [24/24], Loss: 0.0309, Val Loss: 0.2269 accuracy : 0.9420, precision : 0.9916, recall : 0.8969, F1_score : 0.9419\n",
      " Epoch [18/100], Step [24/24], Loss: 0.0282, Val Loss: 0.2368 accuracy : 0.9060, precision : 0.8838, recall : 0.9472, F1_score : 0.9144\n",
      " Epoch [19/100], Step [24/24], Loss: 0.0168, Val Loss: 0.2588 accuracy : 0.9200, precision : 0.9745, recall : 0.8707, F1_score : 0.9197\n",
      " Epoch [20/100], Step [24/24], Loss: 0.0072, Val Loss: 0.1688 accuracy : 0.9640, precision : 0.9868, recall : 0.9375, F1_score : 0.9615\n",
      " Epoch [21/100], Step [24/24], Loss: 0.0100, Val Loss: 0.2089 accuracy : 0.9440, precision : 0.9901, recall : 0.8855, F1_score : 0.9349\n",
      " Epoch [22/100], Step [24/24], Loss: 0.0224, Val Loss: 0.1255 accuracy : 0.9700, precision : 0.9725, recall : 0.9688, F1_score : 0.9706\n",
      " Epoch [23/100], Step [24/24], Loss: 0.0091, Val Loss: 0.1751 accuracy : 0.9500, precision : 0.9323, recall : 0.9669, F1_score : 0.9493\n",
      " Epoch [24/100], Step [24/24], Loss: 0.0171, Val Loss: 0.1300 accuracy : 0.9920, precision : 1.0000, recall : 0.9831, F1_score : 0.9915\n",
      " Epoch [25/100], Step [24/24], Loss: 0.0156, Val Loss: 0.1043 accuracy : 0.9820, precision : 0.9882, recall : 0.9767, F1_score : 0.9824\n",
      " Epoch [26/100], Step [24/24], Loss: 0.0036, Val Loss: 0.0922 accuracy : 0.9880, precision : 0.9960, recall : 0.9805, F1_score : 0.9882\n",
      " Epoch [27/100], Step [24/24], Loss: 0.0133, Val Loss: 0.1226 accuracy : 0.9780, precision : 0.9831, recall : 0.9707, F1_score : 0.9768\n",
      " Epoch [28/100], Step [24/24], Loss: 0.0173, Val Loss: 0.1213 accuracy : 0.9740, precision : 0.9880, recall : 0.9611, F1_score : 0.9744\n",
      " Epoch [29/100], Step [24/24], Loss: 0.0179, Val Loss: 0.1335 accuracy : 0.9640, precision : 0.9549, recall : 0.9769, F1_score : 0.9658\n",
      " Epoch [30/100], Step [24/24], Loss: 0.0032, Val Loss: 0.0929 accuracy : 0.9880, precision : 0.9844, recall : 0.9921, F1_score : 0.9882\n",
      " Epoch [31/100], Step [24/24], Loss: 0.0054, Val Loss: 0.0743 accuracy : 0.9940, precision : 1.0000, recall : 0.9873, F1_score : 0.9936\n",
      " Epoch [32/100], Step [24/24], Loss: 0.0169, Val Loss: 0.0860 accuracy : 0.9920, precision : 0.9922, recall : 0.9922, F1_score : 0.9922\n",
      " Epoch [33/100], Step [24/24], Loss: 0.0082, Val Loss: 0.0513 accuracy : 0.9960, precision : 0.9960, recall : 0.9960, F1_score : 0.9960\n",
      " Epoch [34/100], Step [24/24], Loss: 0.0020, Val Loss: 0.0810 accuracy : 0.9900, precision : 0.9921, recall : 0.9881, F1_score : 0.9901\n",
      " Epoch [35/100], Step [24/24], Loss: 0.0008, Val Loss: 0.0638 accuracy : 0.9860, precision : 0.9878, recall : 0.9837, F1_score : 0.9857\n",
      " Epoch [36/100], Step [24/24], Loss: 0.0034, Val Loss: 0.0604 accuracy : 0.9880, precision : 0.9847, recall : 0.9923, F1_score : 0.9885\n",
      " Epoch [37/100], Step [24/24], Loss: 0.0115, Val Loss: 0.0845 accuracy : 0.9900, precision : 0.9925, recall : 0.9888, F1_score : 0.9907\n",
      " Epoch [38/100], Step [24/24], Loss: 0.0126, Val Loss: 0.0563 accuracy : 0.9980, precision : 1.0000, recall : 0.9959, F1_score : 0.9979\n",
      " Epoch [39/100], Step [24/24], Loss: 0.0019, Val Loss: 0.0684 accuracy : 0.9900, precision : 0.9919, recall : 0.9879, F1_score : 0.9899\n",
      " Epoch [40/100], Step [24/24], Loss: 0.0030, Val Loss: 0.0667 accuracy : 0.9880, precision : 0.9846, recall : 0.9922, F1_score : 0.9884\n",
      " Epoch [41/100], Step [24/24], Loss: 0.0017, Val Loss: 0.0437 accuracy : 0.9900, precision : 0.9811, recall : 1.0000, F1_score : 0.9904\n",
      " Epoch [42/100], Step [24/24], Loss: 0.0015, Val Loss: 0.0487 accuracy : 0.9940, precision : 1.0000, recall : 0.9883, F1_score : 0.9941\n",
      " Epoch [43/100], Step [24/24], Loss: 0.0129, Val Loss: 0.0369 accuracy : 0.9920, precision : 0.9927, recall : 0.9927, F1_score : 0.9927\n",
      " Epoch [44/100], Step [24/24], Loss: 0.0023, Val Loss: 0.1246 accuracy : 0.9660, precision : 0.9565, recall : 0.9758, F1_score : 0.9661\n",
      " Epoch [45/100], Step [24/24], Loss: 0.0067, Val Loss: 0.0512 accuracy : 0.9940, precision : 0.9919, recall : 0.9959, F1_score : 0.9939\n",
      " Epoch [46/100], Step [24/24], Loss: 0.0011, Val Loss: 0.0544 accuracy : 0.9920, precision : 0.9921, recall : 0.9921, F1_score : 0.9921\n",
      " Epoch [47/100], Step [24/24], Loss: 0.0010, Val Loss: 0.0591 accuracy : 0.9840, precision : 0.9882, recall : 0.9805, F1_score : 0.9844\n",
      " Epoch [48/100], Step [24/24], Loss: 0.0011, Val Loss: 0.0533 accuracy : 0.9900, precision : 1.0000, recall : 0.9805, F1_score : 0.9901\n",
      " Epoch [49/100], Step [24/24], Loss: 0.0038, Val Loss: 0.0722 accuracy : 0.9840, precision : 0.9796, recall : 0.9877, F1_score : 0.9836\n",
      " Epoch [50/100], Step [24/24], Loss: 0.0027, Val Loss: 0.0407 accuracy : 0.9940, precision : 0.9959, recall : 0.9917, F1_score : 0.9938\n",
      " Epoch [51/100], Step [24/24], Loss: 0.0005, Val Loss: 0.0511 accuracy : 0.9940, precision : 0.9887, recall : 1.0000, F1_score : 0.9943\n",
      " Epoch [52/100], Step [24/24], Loss: 0.0011, Val Loss: 0.0548 accuracy : 0.9920, precision : 0.9922, recall : 0.9922, F1_score : 0.9922\n",
      " Epoch [53/100], Step [24/24], Loss: 0.0053, Val Loss: 0.0413 accuracy : 0.9940, precision : 0.9919, recall : 0.9959, F1_score : 0.9939\n",
      " Epoch [54/100], Step [24/24], Loss: 0.0006, Val Loss: 0.0303 accuracy : 0.9960, precision : 1.0000, recall : 0.9923, F1_score : 0.9961\n",
      " Epoch [55/100], Step [24/24], Loss: 0.0030, Val Loss: 0.0703 accuracy : 0.9840, precision : 0.9878, recall : 0.9798, F1_score : 0.9837\n",
      " Epoch [56/100], Step [24/24], Loss: 0.0057, Val Loss: 0.0659 accuracy : 0.9820, precision : 0.9730, recall : 0.9921, F1_score : 0.9825\n",
      " Epoch [57/100], Step [24/24], Loss: 0.0001, Val Loss: 0.0344 accuracy : 0.9920, precision : 1.0000, recall : 0.9833, F1_score : 0.9916\n",
      " Epoch [58/100], Step [24/24], Loss: 0.0012, Val Loss: 0.0515 accuracy : 0.9900, precision : 0.9879, recall : 0.9919, F1_score : 0.9899\n",
      " Epoch [59/100], Step [24/24], Loss: 0.0017, Val Loss: 0.0644 accuracy : 0.9920, precision : 0.9841, recall : 1.0000, F1_score : 0.9920\n",
      " Epoch [60/100], Step [24/24], Loss: 0.0017, Val Loss: 0.0432 accuracy : 0.9940, precision : 0.9921, recall : 0.9960, F1_score : 0.9941\n",
      " Epoch [61/100], Step [24/24], Loss: 0.0002, Val Loss: 0.0304 accuracy : 1.0000, precision : 1.0000, recall : 1.0000, F1_score : 1.0000\n",
      " Epoch [62/100], Step [24/24], Loss: 0.0000, Val Loss: 0.0449 accuracy : 0.9980, precision : 1.0000, recall : 0.9957, F1_score : 0.9978\n",
      " Epoch [63/100], Step [24/24], Loss: 0.0120, Val Loss: 0.0438 accuracy : 0.9920, precision : 0.9959, recall : 0.9878, F1_score : 0.9918\n",
      " Epoch [64/100], Step [24/24], Loss: 0.0010, Val Loss: 0.0483 accuracy : 0.9940, precision : 0.9892, recall : 1.0000, F1_score : 0.9946\n",
      " Epoch [65/100], Step [24/24], Loss: 0.0003, Val Loss: 0.0671 accuracy : 0.9860, precision : 0.9958, recall : 0.9755, F1_score : 0.9856\n",
      " Epoch [66/100], Step [24/24], Loss: 0.0030, Val Loss: 0.0896 accuracy : 0.9760, precision : 0.9706, recall : 0.9788, F1_score : 0.9747\n",
      " Epoch [67/100], Step [24/24], Loss: 0.0007, Val Loss: 0.0266 accuracy : 0.9940, precision : 0.9962, recall : 0.9923, F1_score : 0.9942\n",
      " Epoch [68/100], Step [24/24], Loss: 0.0003, Val Loss: 0.0379 accuracy : 0.9980, precision : 1.0000, recall : 0.9958, F1_score : 0.9979\n",
      " Epoch [69/100], Step [24/24], Loss: 0.0060, Val Loss: 0.1369 accuracy : 0.9540, precision : 0.9184, recall : 1.0000, F1_score : 0.9575\n",
      " Epoch [70/100], Step [24/24], Loss: 0.0026, Val Loss: 0.0455 accuracy : 0.9960, precision : 0.9922, recall : 1.0000, F1_score : 0.9961\n",
      " Epoch [71/100], Step [24/24], Loss: 0.0030, Val Loss: 0.0587 accuracy : 0.9820, precision : 0.9881, recall : 0.9765, F1_score : 0.9822\n",
      " Epoch [72/100], Step [24/24], Loss: 0.0102, Val Loss: 0.0353 accuracy : 0.9920, precision : 0.9961, recall : 0.9884, F1_score : 0.9922\n",
      " Epoch [73/100], Step [24/24], Loss: 0.0001, Val Loss: 0.0333 accuracy : 0.9980, precision : 0.9960, recall : 1.0000, F1_score : 0.9980\n",
      " Epoch [74/100], Step [24/24], Loss: 0.0010, Val Loss: 0.0375 accuracy : 0.9900, precision : 0.9844, recall : 0.9961, F1_score : 0.9902\n",
      " Epoch [75/100], Step [24/24], Loss: 0.0000, Val Loss: 0.0302 accuracy : 0.9960, precision : 1.0000, recall : 0.9922, F1_score : 0.9961\n",
      " Epoch [76/100], Step [24/24], Loss: 0.0005, Val Loss: 0.0250 accuracy : 0.9980, precision : 0.9961, recall : 1.0000, F1_score : 0.9981\n",
      " Epoch [77/100], Step [24/24], Loss: 0.0004, Val Loss: 0.0292 accuracy : 0.9960, precision : 0.9959, recall : 0.9959, F1_score : 0.9959\n",
      " Epoch [78/100], Step [24/24], Loss: 0.0006, Val Loss: 0.0401 accuracy : 0.9900, precision : 0.9960, recall : 0.9840, F1_score : 0.9899\n",
      " Epoch [79/100], Step [24/24], Loss: 0.0001, Val Loss: 0.0258 accuracy : 0.9980, precision : 1.0000, recall : 0.9958, F1_score : 0.9979\n",
      " Epoch [80/100], Step [24/24], Loss: 0.0025, Val Loss: 0.0640 accuracy : 0.9820, precision : 1.0000, recall : 0.9669, F1_score : 0.9832\n",
      " Epoch [81/100], Step [24/24], Loss: 0.0044, Val Loss: 0.0163 accuracy : 1.0000, precision : 1.0000, recall : 1.0000, F1_score : 1.0000\n",
      " Epoch [82/100], Step [24/24], Loss: 0.0017, Val Loss: 0.0431 accuracy : 0.9880, precision : 1.0000, recall : 0.9767, F1_score : 0.9882\n",
      " Epoch [83/100], Step [24/24], Loss: 0.0009, Val Loss: 0.0266 accuracy : 0.9960, precision : 1.0000, recall : 0.9925, F1_score : 0.9962\n",
      " Epoch [84/100], Step [24/24], Loss: 0.0004, Val Loss: 0.0453 accuracy : 0.9860, precision : 0.9959, recall : 0.9756, F1_score : 0.9856\n",
      " Epoch [85/100], Step [24/24], Loss: 0.0003, Val Loss: 0.0297 accuracy : 0.9920, precision : 0.9917, recall : 0.9917, F1_score : 0.9917\n",
      " Epoch [86/100], Step [24/24], Loss: 0.0014, Val Loss: 0.0487 accuracy : 0.9920, precision : 0.9923, recall : 0.9923, F1_score : 0.9923\n",
      " Epoch [87/100], Step [24/24], Loss: 0.0002, Val Loss: 0.0575 accuracy : 0.9860, precision : 0.9959, recall : 0.9760, F1_score : 0.9859\n",
      " Epoch [88/100], Step [24/24], Loss: 0.0002, Val Loss: 0.0245 accuracy : 0.9940, precision : 0.9922, recall : 0.9961, F1_score : 0.9942\n",
      " Epoch [89/100], Step [24/24], Loss: 0.0012, Val Loss: 0.0477 accuracy : 0.9920, precision : 0.9915, recall : 0.9915, F1_score : 0.9915\n",
      " Epoch [90/100], Step [24/24], Loss: 0.0006, Val Loss: 0.0431 accuracy : 0.9880, precision : 0.9921, recall : 0.9844, F1_score : 0.9882\n",
      " Epoch [91/100], Step [24/24], Loss: 0.0000, Val Loss: 0.0207 accuracy : 0.9980, precision : 0.9960, recall : 1.0000, F1_score : 0.9980\n",
      " Epoch [92/100], Step [24/24], Loss: 0.0000, Val Loss: 0.0535 accuracy : 0.9840, precision : 0.9962, recall : 0.9740, F1_score : 0.9850\n",
      " Epoch [93/100], Step [24/24], Loss: 0.0008, Val Loss: 0.0316 accuracy : 0.9920, precision : 1.0000, recall : 0.9841, F1_score : 0.9920\n",
      " Epoch [94/100], Step [24/24], Loss: 0.0030, Val Loss: 0.0209 accuracy : 1.0000, precision : 1.0000, recall : 1.0000, F1_score : 1.0000\n",
      " Epoch [95/100], Step [24/24], Loss: 0.0015, Val Loss: 0.0328 accuracy : 0.9920, precision : 1.0000, recall : 0.9841, F1_score : 0.9920\n",
      " Epoch [96/100], Step [24/24], Loss: 0.0075, Val Loss: 0.0422 accuracy : 0.9920, precision : 0.9962, recall : 0.9888, F1_score : 0.9925\n",
      " Epoch [97/100], Step [24/24], Loss: 0.0000, Val Loss: 0.0387 accuracy : 0.9900, precision : 1.0000, recall : 0.9818, F1_score : 0.9908\n",
      " Epoch [98/100], Step [24/24], Loss: 0.0012, Val Loss: 0.0636 accuracy : 0.9880, precision : 0.9798, recall : 0.9959, F1_score : 0.9878\n",
      " Epoch [99/100], Step [24/24], Loss: 0.0082, Val Loss: 0.0432 accuracy : 0.9940, precision : 0.9959, recall : 0.9919, F1_score : 0.9939\n",
      " Epoch [100/100], Step [24/24], Loss: 0.0007, Val Loss: 0.0770 accuracy : 0.9860, precision : 0.9876, recall : 0.9835, F1_score : 0.9855\n",
      "finished in 659.2784104347229 seconds\n"
     ]
    }
   ],
   "source": [
    "from _CNN_Classification import *\n",
    "\n",
    "model = train(params, dataset)"
   ]
  },
  {
   "cell_type": "code",
   "execution_count": 5,
   "metadata": {},
   "outputs": [
    {
     "name": "stdout",
     "output_type": "stream",
     "text": [
      "----------------------------------------------------------------\n",
      "        Layer (type)               Output Shape         Param #\n",
      "================================================================\n",
      "            Conv1d-1              [-1, 4, 6001]             124\n",
      "              ReLU-2              [-1, 4, 6001]               0\n",
      "           Dropout-3              [-1, 4, 6001]               0\n",
      "         MaxPool1d-4              [-1, 4, 3000]               0\n",
      "            Conv1d-5              [-1, 8, 3001]             264\n",
      "              ReLU-6              [-1, 8, 3001]               0\n",
      "           Dropout-7              [-1, 8, 3001]               0\n",
      "         MaxPool1d-8              [-1, 8, 1500]               0\n",
      "            Conv1d-9             [-1, 16, 1501]             784\n",
      "             ReLU-10             [-1, 16, 1501]               0\n",
      "          Dropout-11             [-1, 16, 1501]               0\n",
      "        MaxPool1d-12              [-1, 16, 750]               0\n",
      "           Conv1d-13              [-1, 32, 751]           2,080\n",
      "             ReLU-14              [-1, 32, 751]               0\n",
      "          Dropout-15              [-1, 32, 751]               0\n",
      "        MaxPool1d-16              [-1, 32, 375]               0\n",
      "           Linear-17                 [-1, 1500]      18,001,500\n",
      "             ReLU-18                 [-1, 1500]               0\n",
      "           Linear-19                  [-1, 100]         150,100\n",
      "             ReLU-20                  [-1, 100]               0\n",
      "           Linear-21                    [-1, 1]             101\n",
      "          Sigmoid-22                    [-1, 1]               0\n",
      "================================================================\n",
      "Total params: 18,154,953\n",
      "Trainable params: 18,154,953\n",
      "Non-trainable params: 0\n",
      "----------------------------------------------------------------\n",
      "Input size (MB): 0.07\n",
      "Forward/backward pass size (MB): 2.59\n",
      "Params size (MB): 69.26\n",
      "Estimated Total Size (MB): 71.91\n",
      "----------------------------------------------------------------\n"
     ]
    }
   ],
   "source": [
    "import torchsummary\n",
    "\n",
    "torchsummary.summary(model, (3, 6000), device='cuda')"
   ]
  },
  {
   "cell_type": "code",
   "execution_count": null,
   "metadata": {},
   "outputs": [],
   "source": []
  }
 ],
 "metadata": {
  "kernelspec": {
   "display_name": "Python 3",
   "language": "python",
   "name": "python3"
  },
  "language_info": {
   "codemirror_mode": {
    "name": "ipython",
    "version": 3
   },
   "file_extension": ".py",
   "mimetype": "text/x-python",
   "name": "python",
   "nbconvert_exporter": "python",
   "pygments_lexer": "ipython3",
   "version": "3.6.9"
  }
 },
 "nbformat": 4,
 "nbformat_minor": 4
}
