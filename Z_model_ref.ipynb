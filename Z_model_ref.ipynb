{
 "cells": [
  {
   "cell_type": "code",
   "execution_count": null,
   "metadata": {},
   "outputs": [],
   "source": [
    "import torch\n",
    "import torch.nn as nn\n",
    "import torchvision.models as models\n",
    "from torch.utils.data import DataLoader\n",
    "\n",
    "import numpy as np\n",
    "import matplotlib.pyplot as plt\n",
    "\n",
    "from tqdm.notebook import tqdm\n",
    "\n",
    "DEVICE = torch.device('cuda:0' if torch.cuda.is_available() else 'cpu')\n",
    "print('DEVICE : ', DEVICE)"
   ]
  },
  {
   "cell_type": "code",
   "execution_count": 2,
   "metadata": {},
   "outputs": [
    {
     "name": "stdout",
     "output_type": "stream",
     "text": [
      "DEVICE :  cuda:0\n"
     ]
    }
   ],
   "source": [
    "%run ../chap13/dataset_auto_mnist.ipynb\n",
    "%run ../chap14/dataset_endec_mnist.ipynb\n",
    "\n",
    "DEVICE = torch.device('cuda:0' if torch.cuda.is_available() else 'cpu')\n",
    "print('DEVICE : ', DEVICE)"
   ]
  },
  {
   "cell_type": "code",
   "execution_count": 3,
   "metadata": {},
   "outputs": [],
   "source": [
    "class EncEngDataset(Dataset):\n",
    "    def __init__(self, data, labels):\n",
    "        super(EncEngDataset).__init__()\n",
    "        \n",
    "        self.data = data\n",
    "        self.labels = labels\n",
    "    \n",
    "    \n",
    "    def __len__(self):\n",
    "        return len(self.data)\n",
    "    \n",
    "    \n",
    "    def __getitem__(self, idx):\n",
    "        return self.data[idx], self.labels[idx]"
   ]
  },
  {
   "cell_type": "code",
   "execution_count": 5,
   "metadata": {},
   "outputs": [],
   "source": [
    "def make_dataset(data):\n",
    "    train_data = torch.from_numpy(data[0]).type(torch.Tensor)\n",
    "    valid_data = torch.from_numpy(data[1]).type(torch.Tensor)\n",
    "    test_data = torch.from_numpy(data[2]).type(torch.Tensor)\n",
    "    \n",
    "    return train_data, valid_data, test_data\n",
    "\n",
    "def make_image(data):\n",
    "    if type(data) == np.ndarray :\n",
    "        data = torch.from_numpy(data).type(torch.Tensor)\n",
    "\n",
    "    data = 0.5 * (data + 1)\n",
    "    data = data.clamp(0, 1)\n",
    "    data = data.view(data.size(0), 1, 28, 28)\n",
    "    return data\n",
    "\n",
    "def make_eng_label_to_vector(data):\n",
    "    return data[:][:].argmax(-1)\n",
    "\n",
    "EncEngDataset.make_data = make_dataset\n",
    "EncEngDataset.make_img = make_image\n",
    "EncEngDataset.make_label_vector = make_eng_label_to_vector"
   ]
  },
  {
   "cell_type": "code",
   "execution_count": 6,
   "metadata": {},
   "outputs": [],
   "source": [
    "def vec_to_letter(result) :\n",
    "    for c in np.squeeze(result) : \n",
    "        letter = chr(c+96) \n",
    "        if letter == '`' : \n",
    "            letter = '#'\n",
    "        print(letter, end = '')\n",
    "    print()\n",
    "    #print('\\t', end = '')\n",
    "    \n",
    "def visualizing_results(data) :\n",
    "    embed = encoder(data)\n",
    "    results = decoder.lettering(embed, out_size = 6)\n",
    "    \n",
    "    pltsize = 1\n",
    "    for i in range(len(results)) :\n",
    "        plt.figure(figsize = (pltsize, pltsize))\n",
    "        plt.axis('off')\n",
    "        plt.imshow(data[i][0],cmap='gray')\n",
    "    \n",
    "        vec_to_letter(results[i])\n",
    "\n",
    "        plt.show()\n",
    "        \n",
    "def accuracy(test_images, test_captions):\n",
    "    embed = encoder(test_images.to(DEVICE))\n",
    "    results = decoder.lettering(embed.to(DEVICE), out_size = 6)\n",
    "    cnt = 0\n",
    "    \n",
    "    for idx in range(len(results)):\n",
    "        if str(results[idx]) == str(test_captions[idx,1:]):\n",
    "            cnt += 1\n",
    "    \n",
    "    return cnt/len(results)"
   ]
  },
  {
   "cell_type": "code",
   "execution_count": 7,
   "metadata": {},
   "outputs": [],
   "source": [
    "class FMnistEngDataset(EndecDataset):\n",
    "    def __init__(self):\n",
    "        super(FMnistEngDataset, self).__init__('mnist_eng', 'select', 'seqselect')\n",
    "\n",
    "        images, labels = load_data()\n",
    "        digits, words = self.set_captions(labels)\n",
    "\n",
    "        self.shuffle_data(images, digits, words)\n",
    "\n",
    "# def load_data():\n",
    "#     tr_x_path = '../../data/chap13/f_mnist/train-images-idx3-ubyte'\n",
    "#     tr_y_path = '../../data/chap13/f_mnist/train-labels-idx1-ubyte'\n",
    "\n",
    "#     images = np.fromfile(tr_x_path, dtype='uint8')[16:]\n",
    "#     labels = np.fromfile(tr_y_path, dtype='uint8')[8:]\n",
    "\n",
    "#     return images.reshape([-1, 28*28]), labels\n",
    "\n",
    "def fmnist_eng_set_captions(self, ys):\n",
    "    self.target_names = ['tshirt', 'pants', 'lshirt', 'dress', 'coat', 'sandal', \\\n",
    "                         'shirt', 'shoes', 'bag', 'boot']\n",
    "\n",
    "    words = np.zeros([10, 7, 27])\n",
    "    words[:, 0, 0] = 6\n",
    "    words[:, 1:, 0] = 1.0\n",
    "    \n",
    "    for n in range(10):\n",
    "        word = self.target_names[n]\n",
    "        for m in range(len(word)):\n",
    "            alpha_idx = ord(word[m])-96\n",
    "            words[n, m+1, :] = np.eye(27)[alpha_idx]\n",
    "\n",
    "    captions = words[ys]\n",
    "    digits = np.eye(10)[ys]\n",
    "    \n",
    "    return digits, captions\n",
    "FMnistEngDataset.set_captions = fmnist_eng_set_captions"
   ]
  },
  {
   "cell_type": "code",
   "execution_count": 8,
   "metadata": {},
   "outputs": [
    {
     "name": "stdout",
     "output_type": "stream",
     "text": [
      "img \t\t type :  <class 'list'>  \t shape :  (48000, 784) \t (3000, 784) \t (9000, 784)\n",
      "onehot label \t type :  <class 'list'>  \t shape :  (48000, 10) \t (3000, 10) \t (9000, 10)\n",
      "eng label \t type :  <class 'list'>  \t shape :  (48000, 7, 27) (3000, 7, 27) \t (9000, 7, 27)\n"
     ]
    }
   ],
   "source": [
    "mnist_eng = MnistEngDataset()\n",
    "\n",
    "img = mnist_eng.data[0]\n",
    "onehot_label = mnist_eng.data[1]\n",
    "eng_label = mnist_eng.data[2]\n",
    "\n",
    "print('img \\t\\t type : ', type(img), ' \\t shape : ', img[0].shape, '\\t',  img[1].shape, '\\t',  img[2].shape)\n",
    "print('onehot label \\t type : ', type(onehot_label), ' \\t shape : ', onehot_label[0].shape, '\\t',  onehot_label[1].shape, '\\t',  onehot_label[2].shape)\n",
    "print('eng label \\t type : ', type(eng_label), ' \\t shape : ', eng_label[0].shape,  eng_label[1].shape, '\\t',  eng_label[2].shape)"
   ]
  },
  {
   "cell_type": "code",
   "execution_count": 9,
   "metadata": {},
   "outputs": [
    {
     "name": "stdout",
     "output_type": "stream",
     "text": [
      "img data \t\ttrain_shape :  torch.Size([48000, 1, 28, 28]) \tvalid shape :  torch.Size([3000, 1, 28, 28]) \ttest shape :  torch.Size([9000, 1, 28, 28])\n",
      "onehot label data \ttrain_shape :  torch.Size([48000, 10]) \t\tvalid shape :  torch.Size([3000, 10]) \t\ttest shape :  torch.Size([9000, 10])\n",
      "eng label data \t\ttrain_shape :  torch.Size([48000, 7]) \t\tvalid shape :  torch.Size([3000, 7]) \t\ttest shape :  torch.Size([9000, 7])\n"
     ]
    }
   ],
   "source": [
    "train_x, valid_x, test_x = make_dataset(img)\n",
    "train_y, valid_y, test_y = make_dataset(onehot_label)\n",
    "train_z, valid_z, test_z = make_dataset(eng_label)\n",
    "\n",
    "train_x = make_image(train_x)\n",
    "valid_x = make_image(valid_x)\n",
    "test_x = make_image(test_x)\n",
    "\n",
    "train_z = make_eng_label_to_vector(train_z)\n",
    "valid_z = make_eng_label_to_vector(valid_z)\n",
    "test_z = make_eng_label_to_vector(test_z)\n",
    "\n",
    "print('img data \\t\\ttrain_shape : ', train_x.shape, '\\tvalid shape : ', valid_x.shape, '\\ttest shape : ',  test_x.shape)\n",
    "print('onehot label data \\ttrain_shape : ', train_y.shape, '\\t\\tvalid shape : ', valid_y.shape, '\\t\\ttest shape : ',  test_y.shape)\n",
    "print('eng label data \\t\\ttrain_shape : ', train_z.shape, '\\t\\tvalid shape : ', valid_z.shape, '\\t\\ttest shape : ',  test_z.shape)"
   ]
  },
  {
   "cell_type": "code",
   "execution_count": 10,
   "metadata": {},
   "outputs": [
    {
     "data": {
      "image/png": "[encoded data removed]",
      "text/plain": [
       "<Figure size 432x288 with 1 Axes>"
      ]
     },
     "metadata": {
      "needs_background": "light"
     },
     "output_type": "display_data"
    }
   ],
   "source": [
    "plt.imshow(train_x[0][0], cmap=\"gray\")\n",
    "plt.show()"
   ]
  },
  {
   "cell_type": "code",
   "execution_count": 11,
   "metadata": {},
   "outputs": [
    {
     "name": "stdout",
     "output_type": "stream",
     "text": [
      "X_train :  torch.Size([100, 1, 28, 28])  \ttype :  torch.FloatTensor\n",
      "y_train :  torch.Size([100, 7])  \t\ttype :  torch.LongTensor\n"
     ]
    }
   ],
   "source": [
    "f_train_loader = DataLoader(\n",
    "    dataset=EncEngDataset(train_x, train_z), batch_size=100, shuffle=True\n",
    ")\n",
    "f_valid_loader = DataLoader(\n",
    "    dataset=EncEngDataset(valid_x, valid_z), batch_size=100, shuffle=True\n",
    ")\n",
    "f_test_loader = DataLoader(\n",
    "    dataset=EncEngDataset(test_x, test_z), batch_size=100, shuffle=True\n",
    ")\n",
    "\n",
    "for (X_train, y_train) in f_train_loader : \n",
    "    print('X_train : ', X_train.size() , ' \\ttype : ', X_train.type())\n",
    "    print('y_train : ', y_train.size() , ' \\t\\ttype : ', y_train.type())\n",
    "    break"
   ]
  },
  {
   "cell_type": "code",
   "execution_count": 7,
   "metadata": {},
   "outputs": [
    {
     "data": {
      "text/plain": [
       "ResNet(\n",
       "  (conv1): Conv2d(3, 64, kernel_size=(7, 7), stride=(2, 2), padding=(3, 3), bias=False)\n",
       "  (bn1): BatchNorm2d(64, eps=1e-05, momentum=0.1, affine=True, track_running_stats=True)\n",
       "  (relu): ReLU(inplace=True)\n",
       "  (maxpool): MaxPool2d(kernel_size=3, stride=2, padding=1, dilation=1, ceil_mode=False)\n",
       "  (layer1): Sequential(\n",
       "    (0): BasicBlock(\n",
       "      (conv1): Conv2d(64, 64, kernel_size=(3, 3), stride=(1, 1), padding=(1, 1), bias=False)\n",
       "      (bn1): BatchNorm2d(64, eps=1e-05, momentum=0.1, affine=True, track_running_stats=True)\n",
       "      (relu): ReLU(inplace=True)\n",
       "      (conv2): Conv2d(64, 64, kernel_size=(3, 3), stride=(1, 1), padding=(1, 1), bias=False)\n",
       "      (bn2): BatchNorm2d(64, eps=1e-05, momentum=0.1, affine=True, track_running_stats=True)\n",
       "    )\n",
       "    (1): BasicBlock(\n",
       "      (conv1): Conv2d(64, 64, kernel_size=(3, 3), stride=(1, 1), padding=(1, 1), bias=False)\n",
       "      (bn1): BatchNorm2d(64, eps=1e-05, momentum=0.1, affine=True, track_running_stats=True)\n",
       "      (relu): ReLU(inplace=True)\n",
       "      (conv2): Conv2d(64, 64, kernel_size=(3, 3), stride=(1, 1), padding=(1, 1), bias=False)\n",
       "      (bn2): BatchNorm2d(64, eps=1e-05, momentum=0.1, affine=True, track_running_stats=True)\n",
       "    )\n",
       "  )\n",
       "  (layer2): Sequential(\n",
       "    (0): BasicBlock(\n",
       "      (conv1): Conv2d(64, 128, kernel_size=(3, 3), stride=(2, 2), padding=(1, 1), bias=False)\n",
       "      (bn1): BatchNorm2d(128, eps=1e-05, momentum=0.1, affine=True, track_running_stats=True)\n",
       "      (relu): ReLU(inplace=True)\n",
       "      (conv2): Conv2d(128, 128, kernel_size=(3, 3), stride=(1, 1), padding=(1, 1), bias=False)\n",
       "      (bn2): BatchNorm2d(128, eps=1e-05, momentum=0.1, affine=True, track_running_stats=True)\n",
       "      (downsample): Sequential(\n",
       "        (0): Conv2d(64, 128, kernel_size=(1, 1), stride=(2, 2), bias=False)\n",
       "        (1): BatchNorm2d(128, eps=1e-05, momentum=0.1, affine=True, track_running_stats=True)\n",
       "      )\n",
       "    )\n",
       "    (1): BasicBlock(\n",
       "      (conv1): Conv2d(128, 128, kernel_size=(3, 3), stride=(1, 1), padding=(1, 1), bias=False)\n",
       "      (bn1): BatchNorm2d(128, eps=1e-05, momentum=0.1, affine=True, track_running_stats=True)\n",
       "      (relu): ReLU(inplace=True)\n",
       "      (conv2): Conv2d(128, 128, kernel_size=(3, 3), stride=(1, 1), padding=(1, 1), bias=False)\n",
       "      (bn2): BatchNorm2d(128, eps=1e-05, momentum=0.1, affine=True, track_running_stats=True)\n",
       "    )\n",
       "  )\n",
       "  (layer3): Sequential(\n",
       "    (0): BasicBlock(\n",
       "      (conv1): Conv2d(128, 256, kernel_size=(3, 3), stride=(2, 2), padding=(1, 1), bias=False)\n",
       "      (bn1): BatchNorm2d(256, eps=1e-05, momentum=0.1, affine=True, track_running_stats=True)\n",
       "      (relu): ReLU(inplace=True)\n",
       "      (conv2): Conv2d(256, 256, kernel_size=(3, 3), stride=(1, 1), padding=(1, 1), bias=False)\n",
       "      (bn2): BatchNorm2d(256, eps=1e-05, momentum=0.1, affine=True, track_running_stats=True)\n",
       "      (downsample): Sequential(\n",
       "        (0): Conv2d(128, 256, kernel_size=(1, 1), stride=(2, 2), bias=False)\n",
       "        (1): BatchNorm2d(256, eps=1e-05, momentum=0.1, affine=True, track_running_stats=True)\n",
       "      )\n",
       "    )\n",
       "    (1): BasicBlock(\n",
       "      (conv1): Conv2d(256, 256, kernel_size=(3, 3), stride=(1, 1), padding=(1, 1), bias=False)\n",
       "      (bn1): BatchNorm2d(256, eps=1e-05, momentum=0.1, affine=True, track_running_stats=True)\n",
       "      (relu): ReLU(inplace=True)\n",
       "      (conv2): Conv2d(256, 256, kernel_size=(3, 3), stride=(1, 1), padding=(1, 1), bias=False)\n",
       "      (bn2): BatchNorm2d(256, eps=1e-05, momentum=0.1, affine=True, track_running_stats=True)\n",
       "    )\n",
       "  )\n",
       "  (layer4): Sequential(\n",
       "    (0): BasicBlock(\n",
       "      (conv1): Conv2d(256, 512, kernel_size=(3, 3), stride=(2, 2), padding=(1, 1), bias=False)\n",
       "      (bn1): BatchNorm2d(512, eps=1e-05, momentum=0.1, affine=True, track_running_stats=True)\n",
       "      (relu): ReLU(inplace=True)\n",
       "      (conv2): Conv2d(512, 512, kernel_size=(3, 3), stride=(1, 1), padding=(1, 1), bias=False)\n",
       "      (bn2): BatchNorm2d(512, eps=1e-05, momentum=0.1, affine=True, track_running_stats=True)\n",
       "      (downsample): Sequential(\n",
       "        (0): Conv2d(256, 512, kernel_size=(1, 1), stride=(2, 2), bias=False)\n",
       "        (1): BatchNorm2d(512, eps=1e-05, momentum=0.1, affine=True, track_running_stats=True)\n",
       "      )\n",
       "    )\n",
       "    (1): BasicBlock(\n",
       "      (conv1): Conv2d(512, 512, kernel_size=(3, 3), stride=(1, 1), padding=(1, 1), bias=False)\n",
       "      (bn1): BatchNorm2d(512, eps=1e-05, momentum=0.1, affine=True, track_running_stats=True)\n",
       "      (relu): ReLU(inplace=True)\n",
       "      (conv2): Conv2d(512, 512, kernel_size=(3, 3), stride=(1, 1), padding=(1, 1), bias=False)\n",
       "      (bn2): BatchNorm2d(512, eps=1e-05, momentum=0.1, affine=True, track_running_stats=True)\n",
       "    )\n",
       "  )\n",
       "  (avgpool): AdaptiveAvgPool2d(output_size=(1, 1))\n",
       "  (fc): Linear(in_features=512, out_features=1000, bias=True)\n",
       ")"
      ]
     },
     "metadata": {},
     "output_type": "display_data"
    }
   ],
   "source": [
    "import torchvision.models as models\n",
    "display(models.resnet18())"
   ]
  },
  {
   "cell_type": "code",
   "execution_count": 4,
   "metadata": {},
   "outputs": [],
   "source": [
    "class CNNEncoder(nn.Module):\n",
    "    def __init__(self, pretrained = True, embed_size = 512):\n",
    "        super(CNNEncoder, self).__init__()\n",
    "        \n",
    "        self.conv1 = nn.Conv2d(in_channels=1, out_channels=3, kernel_size=3, padding=1)\n",
    "        self.pretrained_model = models.resnet18(pretrained=pretrained)\n",
    "        self.prelu = nn.PReLU()\n",
    "        self.dropout = nn.Dropout(p=0.5)\n",
    "        self.embed = nn.Linear(in_features=1000, out_features=embed_size)\n",
    "        \n",
    "    def forward(self, inp_img):\n",
    "        inp = inp_img.to(DEVICE)\n",
    "        print(inp.shape)\n",
    "        out = self.conv1(inp)\n",
    "        print(out.shape)\n",
    "        out = self.pretrained_model(out)\n",
    "        print(out.shape)\n",
    "        out = self.prelu(out)\n",
    "        print(out.shape)\n",
    "        out = self.dropout(out)\n",
    "        print(out.shape)\n",
    "        out = self.embed(out)\n",
    "        print(out.shape)\n",
    "        \n",
    "        return out\n",
    "\n",
    "\n",
    "class RNNDecoder(nn.Module):\n",
    "    def __init__(self, embed_size, hidden_size, letter_vec_size, num_layers=1):\n",
    "        super(RNNDecoder, self).__init__()\n",
    "        \n",
    "        self.embed_size = embed_size\n",
    "        self.hidden_size = hidden_size\n",
    "        self.letter_vec_size = letter_vec_size\n",
    "        \n",
    "        self.lstm_cell = nn.LSTMCell(input_size = embed_size, hidden_size = hidden_size)\n",
    "        self.fc_out = nn.Linear(in_features=hidden_size, out_features=letter_vec_size)\n",
    "        \n",
    "        self.embed = nn.Embedding(num_embeddings=letter_vec_size, embedding_dim=embed_size)\n",
    "        self.softmax = nn.Softmax(dim=1)\n",
    "        \n",
    "    def forward(self, inp_emb, letter):\n",
    "        batch_size = inp_emb.size(0)\n",
    "        hidden_state = torch.zeros((batch_size, self.hidden_size)).to(DEVICE)\n",
    "        cell_state = torch.zeros((batch_size, self.hidden_size)).to(DEVICE)\n",
    "        outs = torch.empty((batch_size, letter.size(1), self.letter_vec_size))\n",
    "        \n",
    "        letter_embed = self.embed(letter)\n",
    "        \n",
    "        for idx in range(letter.size(1)):\n",
    "            if idx == 0:\n",
    "                hidden_state, cell_state = self.lstm_cell(inp_emb, (hidden_state, cell_state))\n",
    "            else:\n",
    "                hidden_state, cell_state = self.lstm_cell( [:,idx,:], (hidden_state, cell_state))\n",
    "            \n",
    "            out = self.fc_out(hidden_state)\n",
    "            outs[:,idx,:] = out\n",
    "            \n",
    "        return outs\n",
    "    \n",
    "    def lettering(self, inp_embed, out_size):\n",
    "        batch_size = inp_embed.size(0)\n",
    "        hidden_state = torch.zeros((batch_size, self.hidden_size)).to(DEVICE)\n",
    "        cell_state = torch.zeros((batch_size, self.hidden_size)).to(DEVICE)\n",
    "        outs = torch.empty((batch_size, out_size, self.letter_vec_size))\n",
    "        \n",
    "        for idx in range(out_size):\n",
    "            if idx != 0:\n",
    "                inp_embed = self.embed(out.argmax(-1))\n",
    "            hidden_state, cell_state = self.lstm_cell(inp_embed, (hidden_state, cell_state))\n",
    "            out = self.fc_out(hidden_state)\n",
    "            outs[:,idx,:] = out\n",
    "        outs = outs.argmax(-1)\n",
    "        \n",
    "        return outs"
   ]
  },
  {
   "cell_type": "code",
   "execution_count": 14,
   "metadata": {
    "scrolled": true
   },
   "outputs": [
    {
     "name": "stdout",
     "output_type": "stream",
     "text": [
      " Epoch [1/5], Loss: 2.8005, Val Loss: 2.8092, accuracy: 0.00\n",
      " Epoch [1/5], Loss: 2.3136, Val Loss: 2.3565, accuracy: 0.00\n",
      " Epoch [1/5], Loss: 1.7837, Val Loss: 1.8408, accuracy: 0.00\n",
      " Epoch [1/5], Loss: 1.3899, Val Loss: 1.5049, accuracy: 0.11\n",
      " Epoch [1/5], Loss: 1.0655, Val Loss: 1.2478, accuracy: 0.11\n",
      " Epoch [1/5], Loss: 0.7621, Val Loss: 0.8405, accuracy: 0.29\n",
      " Epoch [1/5], Loss: 0.5920, Val Loss: 0.5870, accuracy: 0.63\n",
      " Epoch [1/5], Loss: 0.4166, Val Loss: 0.4126, accuracy: 0.80\n",
      " Epoch [1/5], Loss: 0.3170, Val Loss: 0.3041, accuracy: 0.83\n",
      " Epoch [1/5], Loss: 0.2530, Val Loss: 0.2501, accuracy: 0.90\n",
      " Epoch [1/5], Loss: 0.2530, Val Loss: 0.2501, accuracy: 0.90\n",
      " Epoch [2/5], Loss: 0.1959, Val Loss: 0.1816, accuracy: 0.91\n",
      " Epoch [2/5], Loss: 0.1983, Val Loss: 0.1531, accuracy: 0.93\n",
      " Epoch [2/5], Loss: 0.1584, Val Loss: 0.1463, accuracy: 0.92\n",
      " Epoch [2/5], Loss: 0.1231, Val Loss: 0.1203, accuracy: 0.91\n",
      " Epoch [2/5], Loss: 0.1005, Val Loss: 0.1358, accuracy: 0.93\n",
      " Epoch [2/5], Loss: 0.0891, Val Loss: 0.1154, accuracy: 0.94\n",
      " Epoch [2/5], Loss: 0.0787, Val Loss: 0.0859, accuracy: 0.93\n",
      " Epoch [2/5], Loss: 0.0525, Val Loss: 0.0553, accuracy: 0.95\n",
      " Epoch [2/5], Loss: 0.0534, Val Loss: 0.0724, accuracy: 0.95\n",
      " Epoch [2/5], Loss: 0.0442, Val Loss: 0.0804, accuracy: 0.95\n",
      " Epoch [2/5], Loss: 0.0442, Val Loss: 0.0804, accuracy: 0.95\n",
      " Epoch [3/5], Loss: 0.0516, Val Loss: 0.0743, accuracy: 0.95\n",
      " Epoch [3/5], Loss: 0.0525, Val Loss: 0.0745, accuracy: 0.94\n",
      " Epoch [3/5], Loss: 0.0877, Val Loss: 0.0686, accuracy: 0.94\n",
      " Epoch [3/5], Loss: 0.0586, Val Loss: 0.0740, accuracy: 0.95\n",
      " Epoch [3/5], Loss: 0.0411, Val Loss: 0.0605, accuracy: 0.95\n",
      " Epoch [3/5], Loss: 0.0310, Val Loss: 0.0822, accuracy: 0.95\n",
      " Epoch [3/5], Loss: 0.0368, Val Loss: 0.0242, accuracy: 0.95\n",
      " Epoch [3/5], Loss: 0.0496, Val Loss: 0.0465, accuracy: 0.96\n",
      " Epoch [3/5], Loss: 0.0555, Val Loss: 0.0507, accuracy: 0.96\n",
      " Epoch [3/5], Loss: 0.0634, Val Loss: 0.0510, accuracy: 0.96\n",
      " Epoch [3/5], Loss: 0.0634, Val Loss: 0.0510, accuracy: 0.96\n",
      " Epoch [4/5], Loss: 0.0264, Val Loss: 0.0539, accuracy: 0.96\n",
      " Epoch [4/5], Loss: 0.0286, Val Loss: 0.0423, accuracy: 0.96\n",
      " Epoch [4/5], Loss: 0.0466, Val Loss: 0.0533, accuracy: 0.95\n",
      " Epoch [4/5], Loss: 0.0294, Val Loss: 0.0322, accuracy: 0.96\n",
      " Epoch [4/5], Loss: 0.0301, Val Loss: 0.0304, accuracy: 0.96\n",
      " Epoch [4/5], Loss: 0.0243, Val Loss: 0.0368, accuracy: 0.96\n",
      " Epoch [4/5], Loss: 0.0391, Val Loss: 0.0434, accuracy: 0.96\n",
      " Epoch [4/5], Loss: 0.0384, Val Loss: 0.0377, accuracy: 0.96\n",
      " Epoch [4/5], Loss: 0.0326, Val Loss: 0.0426, accuracy: 0.96\n",
      " Epoch [4/5], Loss: 0.0307, Val Loss: 0.0152, accuracy: 0.97\n",
      " Epoch [4/5], Loss: 0.0307, Val Loss: 0.0152, accuracy: 0.97\n",
      " Epoch [5/5], Loss: 0.0288, Val Loss: 0.0294, accuracy: 0.96\n",
      " Epoch [5/5], Loss: 0.0248, Val Loss: 0.0346, accuracy: 0.97\n",
      " Epoch [5/5], Loss: 0.0269, Val Loss: 0.0271, accuracy: 0.96\n",
      " Epoch [5/5], Loss: 0.0239, Val Loss: 0.0547, accuracy: 0.96\n",
      " Epoch [5/5], Loss: 0.0254, Val Loss: 0.0392, accuracy: 0.95\n",
      " Epoch [5/5], Loss: 0.0283, Val Loss: 0.0363, accuracy: 0.96\n",
      " Epoch [5/5], Loss: 0.0219, Val Loss: 0.0362, accuracy: 0.97\n",
      " Epoch [5/5], Loss: 0.0147, Val Loss: 0.0232, accuracy: 0.96\n",
      " Epoch [5/5], Loss: 0.0199, Val Loss: 0.0142, accuracy: 0.97\n",
      " Epoch [5/5], Loss: 0.0228, Val Loss: 0.0199, accuracy: 0.97\n",
      " Epoch [5/5], Loss: 0.0228, Val Loss: 0.0199, accuracy: 0.97\n",
      "finished in 1361.5407774448395 seconds\n",
      "validation accuracy is  0.9705555555555555\n"
     ]
    }
   ],
   "source": [
    "embed_size = 512\n",
    "pretrained = False\n",
    "\n",
    "hidden_size = 512\n",
    "letter_vec_size = 27\n",
    "num_layers = 3\n",
    "\n",
    "# total_step = len(f_train_loader)\n",
    "total_step = 100\n",
    "num_epochs = 5\n",
    "\n",
    "encoder = CNNEncoder(embed_size=embed_size, pretrained = pretrained).to(DEVICE)\n",
    "decoder = RNNDecoder(embed_size=embed_size, hidden_size=hidden_size, letter_vec_size=letter_vec_size, num_layers=num_layers).to(DEVICE)\n",
    "\n",
    "criterion = nn.CrossEntropyLoss()\n",
    "params = list(decoder.parameters()) + list(encoder.parameters())\n",
    "optimizer = torch.optim.Adam(params, lr=0.0001)\n",
    "\n",
    "losses = list()\n",
    "val_losses = list()\n",
    "acc = list()\n",
    "\n",
    "t0 = time.time()\n",
    "\n",
    "for epoch in range(1, num_epochs+1):\n",
    "    \n",
    "    for i_step in range(1, total_step+1):\n",
    "        \n",
    "        decoder.zero_grad()\n",
    "        encoder.zero_grad()\n",
    "        \n",
    "        encoder.train()\n",
    "        decoder.train()\n",
    "        \n",
    "        images, captions = next(iter(f_train_loader))\n",
    "        images = images.to(DEVICE)\n",
    "        captions = captions.to(DEVICE)\n",
    "        \n",
    "        captions_train = captions[:, :captions.shape[1]-1]\n",
    "        captions_target = captions[:, 1:]\n",
    "\n",
    "        \n",
    "        features = encoder(images).to(DEVICE)\n",
    "        outputs = decoder(features, captions_train).to(DEVICE)\n",
    "        \n",
    "        loss = criterion(outputs.view(-1, letter_vec_size), captions_target.contiguous().view(-1))\n",
    "        \n",
    "        loss.backward()\n",
    "        \n",
    "        optimizer.step()\n",
    "        \n",
    "        # - - - Validate - - -\n",
    "        with torch.no_grad():\n",
    "            \n",
    "            encoder.eval()\n",
    "            decoder.eval()\n",
    "\n",
    "            val_images, val_captions = next(iter(f_valid_loader))\n",
    "            \n",
    "            val_iamges = val_images.to(DEVICE)\n",
    "            val_captions = val_captions.to(DEVICE)\n",
    "\n",
    "            captions_target = val_captions[:, 1:]\n",
    "            captions_train = val_captions[:, :val_captions.shape[1]-1]\n",
    "\n",
    "            features = encoder(val_images).to(DEVICE)\n",
    "            outputs = decoder(features, captions_train).to(DEVICE)\n",
    "\n",
    "            val_loss = criterion(outputs.view(-1, letter_vec_size), captions_target.contiguous().view(-1))\n",
    "        \n",
    "        val_losses.append(val_loss.item())\n",
    "        losses.append(loss.item())\n",
    "        acc.append(accuracy(test_x, test_z))\n",
    "        \n",
    "        stats = 'Epoch [%d/%d], Loss: %.4f, Val Loss: %.4f, accuracy: %.2f' % (epoch, num_epochs, loss.item(), val_loss.item(), accuracy(test_x, test_z))\n",
    "        \n",
    "        print('\\rProcess in [%d/%d] step' % (i_step, total_step), end=\"\")\n",
    "        \n",
    "        if i_step%(total_step/10) == 0 :\n",
    "            print('\\r', stats)\n",
    "    print('\\r', stats)\n",
    "\n",
    "\n",
    "print('finished in {} seconds'.format(time.time() - t0))\n",
    "\n",
    "print('validation accuracy is ', accuracy(test_x, test_z))"
   ]
  },
  {
   "cell_type": "code",
   "execution_count": 26,
   "metadata": {},
   "outputs": [],
   "source": [
    "def vec_to_label(result) :\n",
    "    letter_string = ''\n",
    "    \n",
    "    for c in np.squeeze(result) : \n",
    "        letter = chr(c+96) \n",
    "        if letter == '`' : \n",
    "            letter = '#'\n",
    "        letter_string = letter_string + letter\n",
    "        \n",
    "    return letter_string\n",
    "\n",
    "\n",
    "def visualizing_results_grid(data, captions) :\n",
    "    embed = encoder(data)\n",
    "    results = decoder.lettering(embed, out_size = 6)\n",
    "    \n",
    "    pltsize = (2, 2)\n",
    "    plt.figure(figsize = (10 * pltsize[0], 3 * pltsize[1]))\n",
    "    \n",
    "    for i in range(len(results)) :\n",
    "        \n",
    "        plt.subplot(3, 10, i + 1)\n",
    "        plt.imshow(data[i][0],cmap='gray')\n",
    "        plt.axis('off')\n",
    "        plt.title(vec_to_label(results[i]), color='white' if vec_to_label(results[i]) == vec_to_label(captions[i]) else 'red')\n",
    "        \n",
    "    plt.subplots_adjust(hspace=0.3, wspace=0.0)\n",
    "    plt.style.use('default')\n",
    "    plt.show()"
   ]
  },
  {
   "cell_type": "code",
   "execution_count": 27,
   "metadata": {},
   "outputs": [
    {
     "data": {
      "image/png": "[encoded data removed]",
      "text/plain": [
       "<Figure size 1440x432 with 30 Axes>"
      ]
     },
     "metadata": {},
     "output_type": "display_data"
    }
   ],
   "source": [
    "f_test_images, f_test_captions = next(iter(f_test_loader))\n",
    "visualizing_results_grid(f_test_images[:30], f_test_captions[:30,1:])"
   ]
  },
  {
   "cell_type": "code",
   "execution_count": 29,
   "metadata": {},
   "outputs": [
    {
     "data": {
      "image/png": "[encoded data removed]",
      "text/plain": [
       "<Figure size 640x480 with 1 Axes>"
      ]
     },
     "metadata": {},
     "output_type": "display_data"
    }
   ],
   "source": [
    "plt.plot(losses[:100])\n",
    "plt.plot(val_losses[:100])\n",
    "plt.title('Pure-Model loss')\n",
    "plt.xlabel('SGD Step (BatchSize = 100)')\n",
    "plt.ylabel('Loss (CE)')\n",
    "plt.legend(['Train_Loss', 'Valid'], loc='upper right')\n",
    "plt.show()"
   ]
  },
  {
   "cell_type": "code",
   "execution_count": 31,
   "metadata": {},
   "outputs": [
    {
     "data": {
      "image/png": "[encoded data removed]",
      "text/plain": [
       "<Figure size 640x480 with 1 Axes>"
      ]
     },
     "metadata": {},
     "output_type": "display_data"
    }
   ],
   "source": [
    "plt.style.use('default')\n",
    "plt.plot(acc[:500])\n",
    "plt.title('Pure-Model Accuracy')\n",
    "plt.xlabel('SGD Step (BatchSize = 100)')\n",
    "plt.ylabel('accuracy')\n",
    "plt.legend(['Accuracy'], loc='upper right')\n",
    "plt.show()"
   ]
  },
  {
   "cell_type": "code",
   "execution_count": 30,
   "metadata": {},
   "outputs": [
    {
     "name": "stdout",
     "output_type": "stream",
     "text": [
      "validation accuracy is  0.9705555555555555\n",
      "임종성 202083349 \n"
     ]
    }
   ],
   "source": [
    "print('validation accuracy is ', accuracy(test_x, test_z))\n",
    "print('임종성 202083349 ')"
   ]
  },
  {
   "cell_type": "code",
   "execution_count": null,
   "metadata": {},
   "outputs": [],
   "source": []
  }
 ],
 "metadata": {
  "kernelspec": {
   "display_name": "Python 3",
   "language": "python",
   "name": "python3"
  },
  "language_info": {
   "codemirror_mode": {
    "name": "ipython",
    "version": 3
   },
   "file_extension": ".py",
   "mimetype": "text/x-python",
   "name": "python",
   "nbconvert_exporter": "python",
   "pygments_lexer": "ipython3",
   "version": "3.6.9"
  }
 },
 "nbformat": 4,
 "nbformat_minor": 4
}
